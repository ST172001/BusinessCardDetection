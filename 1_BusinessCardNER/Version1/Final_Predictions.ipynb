{
 "cells": [
  {
   "cell_type": "code",
   "execution_count": 1,
   "id": "4cfc7b21",
   "metadata": {},
   "outputs": [
    {
     "name": "stderr",
     "output_type": "stream",
     "text": [
      "C:\\Users\\VENUS\\anaconda3\\lib\\site-packages\\spacy\\util.py:837: UserWarning: [W095] Model 'en_pipeline' (0.0.0) was trained with spaCy v3.6 and may not be 100% compatible with the current version (3.3.0). If you see errors or degraded performance, download a newer compatible model or retrain your custom model with the current spaCy version. For more details and available updates, run: python -m spacy validate\n",
      "  warnings.warn(warn_msg)\n"
     ]
    }
   ],
   "source": [
    "import cv2\n",
    "import module_s as ms"
   ]
  },
  {
   "cell_type": "code",
   "execution_count": 2,
   "id": "870fa3b8",
   "metadata": {},
   "outputs": [
    {
     "data": {
      "text/plain": [
       "<module 'module_s' from 'C:\\\\Users\\\\VENUS\\\\Desktop\\\\OCR_Project\\\\1_BusinessCardNER\\\\module_s.py'>"
      ]
     },
     "execution_count": 2,
     "metadata": {},
     "output_type": "execute_result"
    }
   ],
   "source": [
    "ms"
   ]
  },
  {
   "cell_type": "code",
   "execution_count": 12,
   "id": "e302999a",
   "metadata": {},
   "outputs": [],
   "source": [
    "img=cv2.imread('./data/sriram.jpg')\n",
    "cv2.namedWindow('Visitingcard',cv2.WINDOW_NORMAL)\n",
    "cv2.imshow('Visitingcard',img)\n",
    "\n",
    "cv2.waitKey(0)\n",
    "cv2.destroyAllWindows()"
   ]
  },
  {
   "cell_type": "code",
   "execution_count": 13,
   "id": "3a9d1f32",
   "metadata": {},
   "outputs": [
    {
     "name": "stderr",
     "output_type": "stream",
     "text": [
      "C:\\Users\\VENUS\\Desktop\\OCR_Project\\1_BusinessCardNER\\module_s.py:90: SettingWithCopyWarning: \n",
      "A value is trying to be set on a copy of a slice from a DataFrame.\n",
      "Try using .loc[row_indexer,col_indexer] = value instead\n",
      "\n",
      "See the caveats in the documentation: https://pandas.pydata.org/pandas-docs/stable/user_guide/indexing.html#returning-a-view-versus-a-copy\n",
      "  df_clean['end']=df_clean['text'].apply(lambda x:len(x)+1).cumsum()-1\n",
      "C:\\Users\\VENUS\\Desktop\\OCR_Project\\1_BusinessCardNER\\module_s.py:91: SettingWithCopyWarning: \n",
      "A value is trying to be set on a copy of a slice from a DataFrame.\n",
      "Try using .loc[row_indexer,col_indexer] = value instead\n",
      "\n",
      "See the caveats in the documentation: https://pandas.pydata.org/pandas-docs/stable/user_guide/indexing.html#returning-a-view-versus-a-copy\n",
      "  df_clean['start']=df_clean[['text','end']].apply(lambda x:x[1]-len(x[0]),axis=1)\n",
      "C:\\Users\\VENUS\\Desktop\\OCR_Project\\1_BusinessCardNER\\module_s.py:96: SettingWithCopyWarning: \n",
      "A value is trying to be set on a copy of a slice from a DataFrame.\n",
      "Try using .loc[row_indexer,col_indexer] = value instead\n",
      "\n",
      "See the caveats in the documentation: https://pandas.pydata.org/pandas-docs/stable/user_guide/indexing.html#returning-a-view-versus-a-copy\n",
      "  bb_df['label']=bb_df['label'].apply(lambda x:x[2:])\n",
      "C:\\Users\\VENUS\\Desktop\\OCR_Project\\1_BusinessCardNER\\module_s.py:97: SettingWithCopyWarning: \n",
      "A value is trying to be set on a copy of a slice from a DataFrame.\n",
      "Try using .loc[row_indexer,col_indexer] = value instead\n",
      "\n",
      "See the caveats in the documentation: https://pandas.pydata.org/pandas-docs/stable/user_guide/indexing.html#returning-a-view-versus-a-copy\n",
      "  bb_df['group']=bb_df['label'].apply(groupg.getgroup)\n",
      "C:\\Users\\VENUS\\Desktop\\OCR_Project\\1_BusinessCardNER\\module_s.py:98: SettingWithCopyWarning: \n",
      "A value is trying to be set on a copy of a slice from a DataFrame.\n",
      "Try using .loc[row_indexer,col_indexer] = value instead\n",
      "\n",
      "See the caveats in the documentation: https://pandas.pydata.org/pandas-docs/stable/user_guide/indexing.html#returning-a-view-versus-a-copy\n",
      "  bb_df[['left','top','width','height']]=bb_df[['left','top','width','height']].astype(int)\n",
      "C:\\Users\\VENUS\\Desktop\\OCR_Project\\1_BusinessCardNER\\module_s.py:99: SettingWithCopyWarning: \n",
      "A value is trying to be set on a copy of a slice from a DataFrame.\n",
      "Try using .loc[row_indexer,col_indexer] = value instead\n",
      "\n",
      "See the caveats in the documentation: https://pandas.pydata.org/pandas-docs/stable/user_guide/indexing.html#returning-a-view-versus-a-copy\n",
      "  bb_df['right']=bb_df['left']+bb_df['width']\n",
      "C:\\Users\\VENUS\\Desktop\\OCR_Project\\1_BusinessCardNER\\module_s.py:100: SettingWithCopyWarning: \n",
      "A value is trying to be set on a copy of a slice from a DataFrame.\n",
      "Try using .loc[row_indexer,col_indexer] = value instead\n",
      "\n",
      "See the caveats in the documentation: https://pandas.pydata.org/pandas-docs/stable/user_guide/indexing.html#returning-a-view-versus-a-copy\n",
      "  bb_df['bottom']=bb_df['top']+bb_df['height']\n"
     ]
    }
   ],
   "source": [
    "img_res,entities=ms.getPredictions(img)"
   ]
  },
  {
   "cell_type": "code",
   "execution_count": 14,
   "id": "0cc63aa6",
   "metadata": {
    "scrolled": true
   },
   "outputs": [
    {
     "name": "stdout",
     "output_type": "stream",
     "text": [
      "{'NAME': [], 'ORG': [], 'DES': ['Senior Manager'], 'PHONE': ['918951971571', '91'], 'EMAIL': ['satwik.dk@shriramproperties.com'], 'WEB': ['www.shriramproperties.com']}\n"
     ]
    }
   ],
   "source": [
    "print(entities)"
   ]
  },
  {
   "cell_type": "code",
   "execution_count": 15,
   "id": "2dda9ae1",
   "metadata": {},
   "outputs": [],
   "source": [
    "cv2.namedWindow('Res',cv2.WINDOW_NORMAL)\n",
    "cv2.imshow('Res',img_res)\n",
    "cv2.waitKey(0)\n",
    "cv2.destroyAllWindows()"
   ]
  }
 ],
 "metadata": {
  "kernelspec": {
   "display_name": "Python 3 (ipykernel)",
   "language": "python",
   "name": "python3"
  },
  "language_info": {
   "codemirror_mode": {
    "name": "ipython",
    "version": 3
   },
   "file_extension": ".py",
   "mimetype": "text/x-python",
   "name": "python",
   "nbconvert_exporter": "python",
   "pygments_lexer": "ipython3",
   "version": "3.9.12"
  }
 },
 "nbformat": 4,
 "nbformat_minor": 5
}
